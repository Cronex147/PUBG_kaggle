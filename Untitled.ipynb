{
 "cells": [
  {
   "cell_type": "code",
   "execution_count": 55,
   "metadata": {},
   "outputs": [],
   "source": [
    "import numpy as np\n",
    "import pandas as pd\n",
    "import matplotlib.pyplot as plt\n",
    "from sklearn.linear_model import LinearRegression\n",
    "from sklearn.model_selection import train_test_split"
   ]
  },
  {
   "cell_type": "code",
   "execution_count": 8,
   "metadata": {},
   "outputs": [],
   "source": [
    "pd.set_option('max_columns', None)"
   ]
  },
  {
   "cell_type": "code",
   "execution_count": 57,
   "metadata": {},
   "outputs": [],
   "source": [
    "df = pd.read_csv('data/train_V2.csv')"
   ]
  },
  {
   "cell_type": "code",
   "execution_count": 58,
   "metadata": {},
   "outputs": [
    {
     "data": {
      "image/png": "[encoded data removed]",
      "text/plain": [
       "<Figure size 432x288 with 1 Axes>"
      ]
     },
     "metadata": {},
     "output_type": "display_data"
    }
   ],
   "source": [
    "plt.hist(df.groupby(['matchId']).Id.count().values, bins=100)\n",
    "plt.show()"
   ]
  },
  {
   "cell_type": "code",
   "execution_count": 59,
   "metadata": {},
   "outputs": [],
   "source": [
    "s = df.groupby(['matchId']).Id.count()\n",
    "s = s[s > df.groupby(['matchId']).Id.count().quantile(.05)].index.values\n",
    "df = df[df['matchId'].isin(s)]"
   ]
  },
  {
   "cell_type": "code",
   "execution_count": 60,
   "metadata": {},
   "outputs": [
    {
     "data": {
      "text/plain": [
       "matchDuration      0.003098\n",
       "winPoints          0.005117\n",
       "killPoints         0.011060\n",
       "rankPoints         0.015479\n",
       "teamKills          0.016247\n",
       "roadKills          0.034542\n",
       "maxPlace           0.036726\n",
       "numGroups          0.037845\n",
       "vehicleDestroys    0.073270\n",
       "swimDistance       0.150891\n",
       "revives            0.241651\n",
       "headshotKills      0.282240\n",
       "DBNOs              0.283610\n",
       "assists            0.305584\n",
       "rideDistance       0.345093\n",
       "killStreaks        0.377539\n",
       "longestKill        0.412569\n",
       "heals              0.430133\n",
       "kills              0.431376\n",
       "damageDealt        0.451293\n",
       "weaponsAcquired    0.620137\n",
       "boosts             0.636471\n",
       "killPlace          0.728027\n",
       "walkDistance       0.814689\n",
       "winPlacePerc       1.000000\n",
       "Name: winPlacePerc, dtype: float64"
      ]
     },
     "execution_count": 60,
     "metadata": {},
     "output_type": "execute_result"
    }
   ],
   "source": [
    "np.abs(df.corr()['winPlacePerc']).sort_values()"
   ]
  },
  {
   "cell_type": "code",
   "execution_count": 91,
   "metadata": {},
   "outputs": [
    {
     "data": {
      "text/plain": [
       "matchDuration      0.000265\n",
       "rankPoints         0.006086\n",
       "winPoints          0.010789\n",
       "teamKills          0.016712\n",
       "killPoints         0.018593\n",
       "roadKills          0.033907\n",
       "numGroups          0.041542\n",
       "maxPlace           0.041814\n",
       "vehicleDestroys    0.071376\n",
       "swimDistance       0.148251\n",
       "revives            0.236220\n",
       "headshotKills      0.278668\n",
       "DBNOs              0.283994\n",
       "assists            0.304414\n",
       "rideDistance       0.333920\n",
       "killStreaks        0.369660\n",
       "longestKill        0.405992\n",
       "heals              0.418691\n",
       "kills              0.424455\n",
       "damageDealt        0.442889\n",
       "weaponsAcquired    0.601155\n",
       "boosts             0.629851\n",
       "killPlace          0.721591\n",
       "walkDistance       0.808810\n",
       "winPlacePerc       1.000000\n",
       "Name: winPlacePerc, dtype: float64"
      ]
     },
     "execution_count": 91,
     "metadata": {},
     "output_type": "execute_result"
    }
   ],
   "source": [
    "np.abs(df.corr()['winPlacePerc']).sort_values()"
   ]
  },
  {
   "cell_type": "code",
   "execution_count": 61,
   "metadata": {},
   "outputs": [],
   "source": [
    "gr_ma = df.groupby(['groupId', 'matchId']).Id.agg('count')\n",
    "quant = gr_ma[gr_ma <= gr_ma.quantile(.95)]\n",
    "df = df[df.groupId.isin(quant.to_frame().index.get_level_values(0))\n",
    "              & df.matchId.isin(quant.to_frame().index.get_level_values(1))]"
   ]
  },
  {
   "cell_type": "code",
   "execution_count": 62,
   "metadata": {},
   "outputs": [],
   "source": [
    "df = df.drop(['Id', 'groupId', 'matchId'], axis = 1)"
   ]
  },
  {
   "cell_type": "code",
   "execution_count": 65,
   "metadata": {},
   "outputs": [
    {
     "data": {
      "image/png": "[encoded data removed]",
      "text/plain": [
       "<Figure size 432x288 with 1 Axes>"
      ]
     },
     "metadata": {},
     "output_type": "display_data"
    }
   ],
   "source": [
    "plt.hist(df['winPoints'], bins = 1000)\n",
    "plt.show()"
   ]
  },
  {
   "cell_type": "code",
   "execution_count": 89,
   "metadata": {},
   "outputs": [],
   "source": [
    "wp = df[['winPoints', 'winPlacePerc']]"
   ]
  },
  {
   "cell_type": "code",
   "execution_count": 90,
   "metadata": {},
   "outputs": [],
   "source": [
    "wp = wp[wp['winPoints'] > 0]"
   ]
  },
  {
   "cell_type": "code",
   "execution_count": 86,
   "metadata": {},
   "outputs": [
    {
     "data": {
      "text/html": [
       "<div>\n",
       "<style scoped>\n",
       "    .dataframe tbody tr th:only-of-type {\n",
       "        vertical-align: middle;\n",
       "    }\n",
       "\n",
       "    .dataframe tbody tr th {\n",
       "        vertical-align: top;\n",
       "    }\n",
       "\n",
       "    .dataframe thead th {\n",
       "        text-align: right;\n",
       "    }\n",
       "</style>\n",
       "<table border=\"1\" class=\"dataframe\">\n",
       "  <thead>\n",
       "    <tr style=\"text-align: right;\">\n",
       "      <th></th>\n",
       "      <th>winPoints</th>\n",
       "      <th>winPlacePerc</th>\n",
       "    </tr>\n",
       "  </thead>\n",
       "  <tbody>\n",
       "    <tr>\n",
       "      <th>winPoints</th>\n",
       "      <td>1.000000</td>\n",
       "      <td>0.227201</td>\n",
       "    </tr>\n",
       "    <tr>\n",
       "      <th>winPlacePerc</th>\n",
       "      <td>0.227201</td>\n",
       "      <td>1.000000</td>\n",
       "    </tr>\n",
       "  </tbody>\n",
       "</table>\n",
       "</div>"
      ],
      "text/plain": [
       "              winPoints  winPlacePerc\n",
       "winPoints      1.000000      0.227201\n",
       "winPlacePerc   0.227201      1.000000"
      ]
     },
     "execution_count": 86,
     "metadata": {},
     "output_type": "execute_result"
    }
   ],
   "source": [
    "wp.corr()"
   ]
  },
  {
   "cell_type": "code",
   "execution_count": 87,
   "metadata": {},
   "outputs": [],
   "source": [
    "wp['winPoints'] = (wp['winPoints'] - wp['winPoints'].mean()) / wp['winPoints'].std()"
   ]
  },
  {
   "cell_type": "code",
   "execution_count": 88,
   "metadata": {},
   "outputs": [
    {
     "data": {
      "text/html": [
       "<div>\n",
       "<style scoped>\n",
       "    .dataframe tbody tr th:only-of-type {\n",
       "        vertical-align: middle;\n",
       "    }\n",
       "\n",
       "    .dataframe tbody tr th {\n",
       "        vertical-align: top;\n",
       "    }\n",
       "\n",
       "    .dataframe thead th {\n",
       "        text-align: right;\n",
       "    }\n",
       "</style>\n",
       "<table border=\"1\" class=\"dataframe\">\n",
       "  <thead>\n",
       "    <tr style=\"text-align: right;\">\n",
       "      <th></th>\n",
       "      <th>winPoints</th>\n",
       "      <th>winPlacePerc</th>\n",
       "    </tr>\n",
       "  </thead>\n",
       "  <tbody>\n",
       "    <tr>\n",
       "      <th>winPoints</th>\n",
       "      <td>1.000000</td>\n",
       "      <td>0.227201</td>\n",
       "    </tr>\n",
       "    <tr>\n",
       "      <th>winPlacePerc</th>\n",
       "      <td>0.227201</td>\n",
       "      <td>1.000000</td>\n",
       "    </tr>\n",
       "  </tbody>\n",
       "</table>\n",
       "</div>"
      ],
      "text/plain": [
       "              winPoints  winPlacePerc\n",
       "winPoints      1.000000      0.227201\n",
       "winPlacePerc   0.227201      1.000000"
      ]
     },
     "execution_count": 88,
     "metadata": {},
     "output_type": "execute_result"
    }
   ],
   "source": [
    "wp.corr()"
   ]
  },
  {
   "cell_type": "code",
   "execution_count": null,
   "metadata": {},
   "outputs": [],
   "source": []
  }
 ],
 "metadata": {
  "kernelspec": {
   "display_name": "Python 3",
   "language": "python",
   "name": "python3"
  },
  "language_info": {
   "codemirror_mode": {
    "name": "ipython",
    "version": 3
   },
   "file_extension": ".py",
   "mimetype": "text/x-python",
   "name": "python",
   "nbconvert_exporter": "python",
   "pygments_lexer": "ipython3",
   "version": "3.6.5"
  }
 },
 "nbformat": 4,
 "nbformat_minor": 2
}
